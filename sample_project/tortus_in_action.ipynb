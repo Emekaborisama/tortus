{
 "cells": [
  {
   "cell_type": "markdown",
   "metadata": {},
   "source": [
    "<img width=\"300\" align='left' src=\"../docs/_static/tortus_logo.svg\" alt=\"tortus logo\">\n"
   ]
  },
  {
   "cell_type": "code",
   "execution_count": 1,
   "metadata": {},
   "outputs": [],
   "source": [
    "import pandas as pd\n",
    "from tortus import Tortus"
   ]
  },
  {
   "cell_type": "markdown",
   "metadata": {},
   "source": [
    "A sample dataset was created from movie reviews for the Disney remake of Mulan. The reviews were found on the Rotten Tomatoes website."
   ]
  },
  {
   "cell_type": "code",
   "execution_count": 2,
   "metadata": {},
   "outputs": [],
   "source": [
    "movie_reviews = pd.read_csv('movie_reviews.csv')"
   ]
  },
  {
   "cell_type": "code",
   "execution_count": 3,
   "metadata": {},
   "outputs": [
    {
     "data": {
      "text/html": [
       "<div>\n",
       "<style scoped>\n",
       "    .dataframe tbody tr th:only-of-type {\n",
       "        vertical-align: middle;\n",
       "    }\n",
       "\n",
       "    .dataframe tbody tr th {\n",
       "        vertical-align: top;\n",
       "    }\n",
       "\n",
       "    .dataframe thead th {\n",
       "        text-align: right;\n",
       "    }\n",
       "</style>\n",
       "<table border=\"1\" class=\"dataframe\">\n",
       "  <thead>\n",
       "    <tr style=\"text-align: right;\">\n",
       "      <th></th>\n",
       "      <th>review_id</th>\n",
       "      <th>date</th>\n",
       "      <th>reviews</th>\n",
       "    </tr>\n",
       "  </thead>\n",
       "  <tbody>\n",
       "    <tr>\n",
       "      <th>0</th>\n",
       "      <td>100</td>\n",
       "      <td>09-12-2020</td>\n",
       "      <td>\"Mulan\" raises the bar in Disney sequels. This...</td>\n",
       "    </tr>\n",
       "    <tr>\n",
       "      <th>1</th>\n",
       "      <td>101</td>\n",
       "      <td>09-11-2020</td>\n",
       "      <td>A movie of impressive scale and clear visual c...</td>\n",
       "    </tr>\n",
       "    <tr>\n",
       "      <th>2</th>\n",
       "      <td>102</td>\n",
       "      <td>09-10-2020</td>\n",
       "      <td>While glorious to look at, the movie still fee...</td>\n",
       "    </tr>\n",
       "    <tr>\n",
       "      <th>3</th>\n",
       "      <td>103</td>\n",
       "      <td>09-10-2020</td>\n",
       "      <td>The movie itself feels like an anticlimax: Mul...</td>\n",
       "    </tr>\n",
       "    <tr>\n",
       "      <th>4</th>\n",
       "      <td>104</td>\n",
       "      <td>09-10-2020</td>\n",
       "      <td>A homage to family, feminism, honor, leadershi...</td>\n",
       "    </tr>\n",
       "  </tbody>\n",
       "</table>\n",
       "</div>"
      ],
      "text/plain": [
       "   review_id        date                                            reviews\n",
       "0        100  09-12-2020  \"Mulan\" raises the bar in Disney sequels. This...\n",
       "1        101  09-11-2020  A movie of impressive scale and clear visual c...\n",
       "2        102  09-10-2020  While glorious to look at, the movie still fee...\n",
       "3        103  09-10-2020  The movie itself feels like an anticlimax: Mul...\n",
       "4        104  09-10-2020  A homage to family, feminism, honor, leadershi..."
      ]
     },
     "execution_count": 3,
     "metadata": {},
     "output_type": "execute_result"
    }
   ],
   "source": [
    "movie_reviews.head()"
   ]
  },
  {
   "cell_type": "markdown",
   "metadata": {},
   "source": [
    "## Create an instance of tortus"
   ]
  },
  {
   "cell_type": "markdown",
   "metadata": {},
   "source": [
    "Tortus(df, text, num_records=10, id_column=None, annotations=None, random=True)\n",
    "\n",
    "* make annotations from ``movie_reviews`` dataframe\n",
    "* using the text in ``reviews`` column\n",
    "* 3 annotations will be done (``num_records``)\n",
    "* we have an ``id_column``, review_id\n",
    "    - In the event we have no ``id_column``, the index of the original\n",
    "    dataframe is used for easy reference\n",
    "* no ``annotations`` were previously done using the tool\n",
    "* records were randomly selected (``random``)"
   ]
  },
  {
   "cell_type": "code",
   "execution_count": 4,
   "metadata": {},
   "outputs": [],
   "source": [
    "tortus = Tortus(\n",
    "    movie_reviews,\n",
    "    'reviews',\n",
    "    num_records=3,\n",
    "    id_column='review_id'\n",
    ")"
   ]
  },
  {
   "cell_type": "markdown",
   "metadata": {},
   "source": [
    "## Begin annotations"
   ]
  },
  {
   "cell_type": "code",
   "execution_count": 5,
   "metadata": {},
   "outputs": [
    {
     "data": {
      "application/vnd.jupyter.widget-view+json": {
       "model_id": "311ee4ab95ff4882b4451ffb346afb6a",
       "version_major": 2,
       "version_minor": 0
      },
      "text/plain": [
       "HTML(value='<h3>Annotations are complete.</h3>')"
      ]
     },
     "metadata": {},
     "output_type": "display_data"
    },
    {
     "data": {
      "application/vnd.jupyter.widget-view+json": {
       "model_id": "89540ef3f1364a1eae7ed9cb6208badb",
       "version_major": 2,
       "version_minor": 0
      },
      "text/plain": [
       "IntProgress(value=3, description='3/3', max=3)"
      ]
     },
     "metadata": {},
     "output_type": "display_data"
    }
   ],
   "source": [
    "tortus.annotate()"
   ]
  },
  {
   "cell_type": "markdown",
   "metadata": {},
   "source": [
    "## View your annotations"
   ]
  },
  {
   "cell_type": "markdown",
   "metadata": {},
   "source": [
    "Annotations can be viewed at anytime by calling \n",
    "```python\n",
    "tortus.annotations\n",
    "```"
   ]
  },
  {
   "cell_type": "code",
   "execution_count": 6,
   "metadata": {},
   "outputs": [
    {
     "data": {
      "text/html": [
       "<div>\n",
       "<style scoped>\n",
       "    .dataframe tbody tr th:only-of-type {\n",
       "        vertical-align: middle;\n",
       "    }\n",
       "\n",
       "    .dataframe tbody tr th {\n",
       "        vertical-align: top;\n",
       "    }\n",
       "\n",
       "    .dataframe thead th {\n",
       "        text-align: right;\n",
       "    }\n",
       "</style>\n",
       "<table border=\"1\" class=\"dataframe\">\n",
       "  <thead>\n",
       "    <tr style=\"text-align: right;\">\n",
       "      <th></th>\n",
       "      <th>review_id</th>\n",
       "      <th>reviews</th>\n",
       "      <th>label</th>\n",
       "      <th>annotated_at</th>\n",
       "    </tr>\n",
       "  </thead>\n",
       "  <tbody>\n",
       "    <tr>\n",
       "      <th>0</th>\n",
       "      <td>109</td>\n",
       "      <td>That magic isn't present here, and the action ...</td>\n",
       "      <td>negative</td>\n",
       "      <td>2020-09-15 17:12:13</td>\n",
       "    </tr>\n",
       "    <tr>\n",
       "      <th>1</th>\n",
       "      <td>105</td>\n",
       "      <td>While it's not a bad film, Disney should've st...</td>\n",
       "      <td>neutral</td>\n",
       "      <td>2020-09-15 17:12:21</td>\n",
       "    </tr>\n",
       "    <tr>\n",
       "      <th>2</th>\n",
       "      <td>107</td>\n",
       "      <td>The Disney remakes have been far more miss tha...</td>\n",
       "      <td>negative</td>\n",
       "      <td>2020-09-15 17:12:27</td>\n",
       "    </tr>\n",
       "  </tbody>\n",
       "</table>\n",
       "</div>"
      ],
      "text/plain": [
       "  review_id                                            reviews     label  \\\n",
       "0       109  That magic isn't present here, and the action ...  negative   \n",
       "1       105  While it's not a bad film, Disney should've st...   neutral   \n",
       "2       107  The Disney remakes have been far more miss tha...  negative   \n",
       "\n",
       "         annotated_at  \n",
       "0 2020-09-15 17:12:13  \n",
       "1 2020-09-15 17:12:21  \n",
       "2 2020-09-15 17:12:27  "
      ]
     },
     "execution_count": 6,
     "metadata": {},
     "output_type": "execute_result"
    }
   ],
   "source": [
    "tortus.annotations"
   ]
  },
  {
   "cell_type": "markdown",
   "metadata": {},
   "source": [
    "## Store your annotations"
   ]
  },
  {
   "cell_type": "markdown",
   "metadata": {},
   "source": [
    "Store your annotations in an object to save or use later in future annotations.\n",
    "```python\n",
    "annotations = tortus.annotations\n",
    "```"
   ]
  },
  {
   "cell_type": "code",
   "execution_count": 7,
   "metadata": {},
   "outputs": [],
   "source": [
    "annotations = tortus.annotations"
   ]
  },
  {
   "cell_type": "markdown",
   "metadata": {},
   "source": [
    "## Continue annotations"
   ]
  },
  {
   "cell_type": "markdown",
   "metadata": {},
   "source": [
    "If you want to continue annotations, you can create another instance of Tortus. Pass annotations as an argument so they will be excluded from the annotation tool, preventing duplicates."
   ]
  },
  {
   "cell_type": "code",
   "execution_count": 8,
   "metadata": {},
   "outputs": [],
   "source": [
    "tortus = Tortus(\n",
    "    movie_reviews,\n",
    "    'reviews',\n",
    "    num_records=3,\n",
    "    id_column='review_id',\n",
    "    annotations=annotations\n",
    ")"
   ]
  },
  {
   "cell_type": "code",
   "execution_count": 9,
   "metadata": {},
   "outputs": [
    {
     "data": {
      "application/vnd.jupyter.widget-view+json": {
       "model_id": "4e6c182cdae648d6aceafd03996e3c24",
       "version_major": 2,
       "version_minor": 0
      },
      "text/plain": [
       "HTML(value='<h3>Annotations are complete.</h3>')"
      ]
     },
     "metadata": {},
     "output_type": "display_data"
    },
    {
     "data": {
      "application/vnd.jupyter.widget-view+json": {
       "model_id": "4a13629af2aa41c5943a23492c76597d",
       "version_major": 2,
       "version_minor": 0
      },
      "text/plain": [
       "IntProgress(value=3, description='3/3', max=3)"
      ]
     },
     "metadata": {},
     "output_type": "display_data"
    }
   ],
   "source": [
    "tortus.annotate()"
   ]
  },
  {
   "cell_type": "markdown",
   "metadata": {},
   "source": [
    "The newest annotations are appended to the end of the ``annotations`` dataframe."
   ]
  },
  {
   "cell_type": "code",
   "execution_count": 10,
   "metadata": {},
   "outputs": [
    {
     "data": {
      "text/html": [
       "<div>\n",
       "<style scoped>\n",
       "    .dataframe tbody tr th:only-of-type {\n",
       "        vertical-align: middle;\n",
       "    }\n",
       "\n",
       "    .dataframe tbody tr th {\n",
       "        vertical-align: top;\n",
       "    }\n",
       "\n",
       "    .dataframe thead th {\n",
       "        text-align: right;\n",
       "    }\n",
       "</style>\n",
       "<table border=\"1\" class=\"dataframe\">\n",
       "  <thead>\n",
       "    <tr style=\"text-align: right;\">\n",
       "      <th></th>\n",
       "      <th>review_id</th>\n",
       "      <th>reviews</th>\n",
       "      <th>label</th>\n",
       "      <th>annotated_at</th>\n",
       "    </tr>\n",
       "  </thead>\n",
       "  <tbody>\n",
       "    <tr>\n",
       "      <th>0</th>\n",
       "      <td>109</td>\n",
       "      <td>That magic isn't present here, and the action ...</td>\n",
       "      <td>negative</td>\n",
       "      <td>2020-09-15 17:12:13</td>\n",
       "    </tr>\n",
       "    <tr>\n",
       "      <th>1</th>\n",
       "      <td>105</td>\n",
       "      <td>While it's not a bad film, Disney should've st...</td>\n",
       "      <td>neutral</td>\n",
       "      <td>2020-09-15 17:12:21</td>\n",
       "    </tr>\n",
       "    <tr>\n",
       "      <th>2</th>\n",
       "      <td>107</td>\n",
       "      <td>The Disney remakes have been far more miss tha...</td>\n",
       "      <td>negative</td>\n",
       "      <td>2020-09-15 17:12:27</td>\n",
       "    </tr>\n",
       "    <tr>\n",
       "      <th>3</th>\n",
       "      <td>110</td>\n",
       "      <td>Mulan is the first Disney live action remake t...</td>\n",
       "      <td>positive</td>\n",
       "      <td>2020-09-15 17:12:45</td>\n",
       "    </tr>\n",
       "    <tr>\n",
       "      <th>4</th>\n",
       "      <td>101</td>\n",
       "      <td>A movie of impressive scale and clear visual c...</td>\n",
       "      <td>positive</td>\n",
       "      <td>2020-09-15 17:12:53</td>\n",
       "    </tr>\n",
       "    <tr>\n",
       "      <th>5</th>\n",
       "      <td>113</td>\n",
       "      <td>Mulan lacks the warmth, true inspiration, emot...</td>\n",
       "      <td>negative</td>\n",
       "      <td>2020-09-15 17:12:59</td>\n",
       "    </tr>\n",
       "  </tbody>\n",
       "</table>\n",
       "</div>"
      ],
      "text/plain": [
       "  review_id                                            reviews     label  \\\n",
       "0       109  That magic isn't present here, and the action ...  negative   \n",
       "1       105  While it's not a bad film, Disney should've st...   neutral   \n",
       "2       107  The Disney remakes have been far more miss tha...  negative   \n",
       "3       110  Mulan is the first Disney live action remake t...  positive   \n",
       "4       101  A movie of impressive scale and clear visual c...  positive   \n",
       "5       113  Mulan lacks the warmth, true inspiration, emot...  negative   \n",
       "\n",
       "         annotated_at  \n",
       "0 2020-09-15 17:12:13  \n",
       "1 2020-09-15 17:12:21  \n",
       "2 2020-09-15 17:12:27  \n",
       "3 2020-09-15 17:12:45  \n",
       "4 2020-09-15 17:12:53  \n",
       "5 2020-09-15 17:12:59  "
      ]
     },
     "execution_count": 10,
     "metadata": {},
     "output_type": "execute_result"
    }
   ],
   "source": [
    "tortus.annotations"
   ]
  }
 ],
 "metadata": {
  "kernelspec": {
   "display_name": "Python 3",
   "language": "python",
   "name": "python3"
  },
  "language_info": {
   "codemirror_mode": {
    "name": "ipython",
    "version": 3
   },
   "file_extension": ".py",
   "mimetype": "text/x-python",
   "name": "python",
   "nbconvert_exporter": "python",
   "pygments_lexer": "ipython3",
   "version": "3.7.3"
  }
 },
 "nbformat": 4,
 "nbformat_minor": 4
}
